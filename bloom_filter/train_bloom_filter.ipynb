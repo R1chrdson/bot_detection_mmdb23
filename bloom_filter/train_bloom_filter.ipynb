{
 "cells": [
  {
   "cell_type": "markdown",
   "metadata": {},
   "source": [
    "### Imports"
   ]
  },
  {
   "cell_type": "code",
   "execution_count": 2,
   "metadata": {},
   "outputs": [],
   "source": [
    "import joblib\n",
    "import pandas as pd\n",
    "\n",
    "from bloom_filter import BloomFilter"
   ]
  },
  {
   "cell_type": "markdown",
   "metadata": {},
   "source": [
    "### Train the bloom filter"
   ]
  },
  {
   "cell_type": "code",
   "execution_count": 6,
   "metadata": {},
   "outputs": [],
   "source": [
    "validation_set = pd.read_csv('../data/validation_set_transformed.csv', index_col='user')"
   ]
  },
  {
   "cell_type": "code",
   "execution_count": 7,
   "metadata": {},
   "outputs": [],
   "source": [
    "model = joblib.load('../data/bot_classifier.joblib')"
   ]
  },
  {
   "cell_type": "code",
   "execution_count": 8,
   "metadata": {},
   "outputs": [],
   "source": [
    "bot_preds = model.predict(validation_set.drop(columns=['bot']))"
   ]
  },
  {
   "cell_type": "code",
   "execution_count": 10,
   "metadata": {},
   "outputs": [
    {
     "data": {
      "text/plain": [
       "(['Kobott',\n",
       "  'WugBot',\n",
       "  'GoingBatty',\n",
       "  'Donner60',\n",
       "  'Formula Downforce',\n",
       "  'Bottlesofsmoke',\n",
       "  'Hotwiki',\n",
       "  'Soup detective',\n",
       "  'GreenC bot',\n",
       "  'RscprinterBot'],\n",
       " 66)"
      ]
     },
     "execution_count": 10,
     "metadata": {},
     "output_type": "execute_result"
    }
   ],
   "source": [
    "bots_list = validation_set.index[bot_preds].tolist()\n",
    "bots_list[:10], len(bots_list)"
   ]
  },
  {
   "cell_type": "code",
   "execution_count": 11,
   "metadata": {},
   "outputs": [],
   "source": [
    "bf = BloomFilter(items_count=len(bots_list), fp_prob=0.1)\n",
    "for bot in bots_list:\n",
    "    bf.add(bot)"
   ]
  },
  {
   "cell_type": "code",
   "execution_count": 12,
   "metadata": {},
   "outputs": [],
   "source": [
    "assert bf.check(random.choice(bots_list))\n",
    "assert not bf.check('some_user')"
   ]
  },
  {
   "cell_type": "code",
   "execution_count": 13,
   "metadata": {},
   "outputs": [],
   "source": [
    "bf.save('../data/bloom_filter.bf')"
   ]
  },
  {
   "cell_type": "code",
   "execution_count": 14,
   "metadata": {},
   "outputs": [
    {
     "name": "stdout",
     "output_type": "stream",
     "text": [
      "BloomFilter(size=316, hash_count=3, fp_prob=0.1)\n"
     ]
    }
   ],
   "source": [
    "print(bf)"
   ]
  }
 ],
 "metadata": {
  "kernelspec": {
   "display_name": "venv",
   "language": "python",
   "name": "python3"
  },
  "language_info": {
   "codemirror_mode": {
    "name": "ipython",
    "version": 3
   },
   "file_extension": ".py",
   "mimetype": "text/x-python",
   "name": "python",
   "nbconvert_exporter": "python",
   "pygments_lexer": "ipython3",
   "version": "3.10.6"
  }
 },
 "nbformat": 4,
 "nbformat_minor": 2
}
