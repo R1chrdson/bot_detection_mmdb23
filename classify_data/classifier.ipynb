{
 "cells": [
  {
   "cell_type": "markdown",
   "metadata": {},
   "source": [
    "### Imports"
   ]
  },
  {
   "cell_type": "code",
   "execution_count": 1,
   "metadata": {},
   "outputs": [],
   "source": [
    "import hashlib\n",
    "import joblib\n",
    "import random\n",
    "import string\n",
    "\n",
    "import matplotlib.pyplot as plt\n",
    "import numpy as np\n",
    "import pandas as pd\n",
    "import seaborn as sns\n",
    "\n",
    "import nltk\n",
    "from nltk.corpus import stopwords as sw\n",
    "from nltk.stem import WordNetLemmatizer\n",
    "from sklearn.feature_extraction.text import TfidfVectorizer"
   ]
  },
  {
   "cell_type": "code",
   "execution_count": 2,
   "metadata": {},
   "outputs": [
    {
     "name": "stderr",
     "output_type": "stream",
     "text": [
      "[nltk_data] Downloading package stopwords to\n",
      "[nltk_data]     /home/remote_ssh_user/nltk_data...\n",
      "[nltk_data]   Package stopwords is already up-to-date!\n",
      "[nltk_data] Downloading package wordnet to\n",
      "[nltk_data]     /home/remote_ssh_user/nltk_data...\n",
      "[nltk_data]   Package wordnet is already up-to-date!\n"
     ]
    },
    {
     "data": {
      "text/plain": [
       "True"
      ]
     },
     "execution_count": 2,
     "metadata": {},
     "output_type": "execute_result"
    }
   ],
   "source": [
    "nltk.download('stopwords')\n",
    "nltk.download('wordnet')"
   ]
  },
  {
   "cell_type": "markdown",
   "metadata": {},
   "source": [
    "### Utils"
   ]
  },
  {
   "cell_type": "code",
   "execution_count": 3,
   "metadata": {},
   "outputs": [],
   "source": [
    "SEED = 111\n",
    "\n",
    "random.seed(SEED)\n",
    "np.random.seed(SEED)"
   ]
  },
  {
   "cell_type": "markdown",
   "metadata": {},
   "source": [
    "### Data preparation"
   ]
  },
  {
   "cell_type": "code",
   "execution_count": 4,
   "metadata": {},
   "outputs": [],
   "source": [
    "dataset = pd.read_json('../data/dataset_2weeks.jsonl', lines=True)\n",
    "dataset = dataset[dataset.type.eq('edit')].reset_index(drop=True)"
   ]
  },
  {
   "cell_type": "code",
   "execution_count": 5,
   "metadata": {},
   "outputs": [],
   "source": [
    "def clean_text(text: pd.DataFrame) -> pd.DataFrame:\n",
    "    \"\"\"\n",
    "    Function that cleans the text by removing stopwords and lemmatizing the words\n",
    "    \"\"\"\n",
    "    stopwords = sw.words('english')\n",
    "    lemmatizer = WordNetLemmatizer()\n",
    "\n",
    "    text = text.str.lower()\n",
    "    text = text.str.replace('[^\\w\\s]', '')\n",
    "    text = text.str.replace('\\d+', '')\n",
    "    text = text.apply(lambda x: ' '.join([lemmatizer.lemmatize(word) for word in x.split() if word not in stopwords]))\n",
    "    return text\n",
    "\n",
    "def transform_data(dataset):\n",
    "    \"\"\"Converts the dataset into a format that can be used by the classifier\"\"\"\n",
    "    result = pd.DataFrame(index=dataset.user.unique())\n",
    "    result['bot'] = dataset.groupby('user').bot.max()\n",
    "    result['bot_in_name'] = result.index.map(lambda x: 'bot' in x.lower())\n",
    "\n",
    "    dataset['bot_in_comment'] = dataset.comment.str.lower().str.contains('bot')\n",
    "    result['bot_in_comment'] = dataset.groupby('user').bot_in_comment.mean() > 0.5\n",
    "\n",
    "    dataset['day'] = dataset.timestamp.dt.day\n",
    "    dataset['hour'] = dataset.timestamp.dt.hour\n",
    "    result['changes_per_day'] = dataset.groupby(['day', 'user']).day.count().groupby('user').mean()\n",
    "    result['changes_per_day_min'] = dataset.groupby(['day', 'user']).day.count().groupby('user').min()\n",
    "    result['changes_per_day_max'] = dataset.groupby(['day', 'user']).day.count().groupby('user').max()\n",
    "\n",
    "    result['changes_per_hour'] = dataset.groupby(['hour', 'day', 'user']).hour.count().groupby('user').mean()\n",
    "    result['changes_per_hour_min'] = dataset.groupby(['hour', 'day', 'user']).hour.count().groupby('user').min()\n",
    "    result['changes_per_hour_max'] = dataset.groupby(['hour', 'day', 'user']).hour.count().groupby('user').max()\n",
    "\n",
    "    dataset['edit_length'] = dataset.length.apply(lambda x: abs(x['old'] - x['new']) if x else 0)\n",
    "    result['edit_length_mean'] = dataset.groupby('user').edit_length.mean()\n",
    "    result['edit_length_min'] = dataset.groupby('user').edit_length.min()\n",
    "    result['edit_length_max'] = dataset.groupby('user').edit_length.max()\n",
    "\n",
    "    result['pages_edited'] = dataset.groupby('user').title.nunique()\n",
    "    result['pages_edited_per_day'] = dataset.groupby(['day', 'user']).title.nunique().groupby('user').mean()\n",
    "    result['pages_edited_per_day_min'] = dataset.groupby(['day', 'user']).title.nunique().groupby('user').min()\n",
    "    result['pages_edited_per_day_max'] = dataset.groupby(['day', 'user']).title.nunique().groupby('user').max()\n",
    "\n",
    "    result['pages_edited_per_hour'] = dataset.groupby(['hour', 'day', 'user']).title.nunique().groupby('user').mean()\n",
    "    result['pages_edited_per_hour_min'] = dataset.groupby(['hour', 'day', 'user']).title.nunique().groupby('user').min()\n",
    "    result['pages_edited_per_hour_max'] = dataset.groupby(['hour', 'day', 'user']).title.nunique().groupby('user').max()\n",
    "\n",
    "    tfidf = TfidfVectorizer(max_features=10)\n",
    "    tfidf.fit(clean_text(dataset.comment))\n",
    "    tfidf_columns = [f'tfidf_{feature}' for feature in tfidf.get_feature_names_out()]\n",
    "    tfidf_data = pd.DataFrame(tfidf.transform(dataset.comment).toarray(), columns=tfidf_columns).fillna(0)\n",
    "    dataset = pd.concat([dataset, tfidf_data], axis=1)\n",
    "    result[tfidf_columns] = dataset.groupby('user')[tfidf_columns].mean()\n",
    "\n",
    "    return result"
   ]
  },
  {
   "cell_type": "code",
   "execution_count": 6,
   "metadata": {},
   "outputs": [
    {
     "data": {
      "text/html": [
       "<div>\n",
       "<style scoped>\n",
       "    .dataframe tbody tr th:only-of-type {\n",
       "        vertical-align: middle;\n",
       "    }\n",
       "\n",
       "    .dataframe tbody tr th {\n",
       "        vertical-align: top;\n",
       "    }\n",
       "\n",
       "    .dataframe thead th {\n",
       "        text-align: right;\n",
       "    }\n",
       "</style>\n",
       "<table border=\"1\" class=\"dataframe\">\n",
       "  <thead>\n",
       "    <tr style=\"text-align: right;\">\n",
       "      <th></th>\n",
       "      <th>bot</th>\n",
       "      <th>bot_in_name</th>\n",
       "      <th>bot_in_comment</th>\n",
       "      <th>changes_per_day</th>\n",
       "      <th>changes_per_day_min</th>\n",
       "      <th>changes_per_day_max</th>\n",
       "      <th>changes_per_hour</th>\n",
       "      <th>changes_per_hour_min</th>\n",
       "      <th>changes_per_hour_max</th>\n",
       "      <th>edit_length_mean</th>\n",
       "      <th>...</th>\n",
       "      <th>tfidf_added</th>\n",
       "      <th>tfidf_bot</th>\n",
       "      <th>tfidf_category</th>\n",
       "      <th>tfidf_en</th>\n",
       "      <th>tfidf_link</th>\n",
       "      <th>tfidf_report</th>\n",
       "      <th>tfidf_talk</th>\n",
       "      <th>tfidf_user</th>\n",
       "      <th>tfidf_wikipedia</th>\n",
       "      <th>tfidf_wp</th>\n",
       "    </tr>\n",
       "  </thead>\n",
       "  <tbody>\n",
       "    <tr>\n",
       "      <th>GreenC bot</th>\n",
       "      <td>True</td>\n",
       "      <td>True</td>\n",
       "      <td>False</td>\n",
       "      <td>1566.571429</td>\n",
       "      <td>2</td>\n",
       "      <td>9771</td>\n",
       "      <td>378.137931</td>\n",
       "      <td>1</td>\n",
       "      <td>2003</td>\n",
       "      <td>56.608700</td>\n",
       "      <td>...</td>\n",
       "      <td>0.000000</td>\n",
       "      <td>0.000207</td>\n",
       "      <td>0.000000</td>\n",
       "      <td>0.000000</td>\n",
       "      <td>0.014471</td>\n",
       "      <td>0.00023</td>\n",
       "      <td>0.000000</td>\n",
       "      <td>0.981196</td>\n",
       "      <td>0.036553</td>\n",
       "      <td>0.000000</td>\n",
       "    </tr>\n",
       "    <tr>\n",
       "      <th>77.76.22.175</th>\n",
       "      <td>False</td>\n",
       "      <td>False</td>\n",
       "      <td>False</td>\n",
       "      <td>1.000000</td>\n",
       "      <td>1</td>\n",
       "      <td>1</td>\n",
       "      <td>1.000000</td>\n",
       "      <td>1</td>\n",
       "      <td>1</td>\n",
       "      <td>45.000000</td>\n",
       "      <td>...</td>\n",
       "      <td>0.000000</td>\n",
       "      <td>0.000000</td>\n",
       "      <td>0.000000</td>\n",
       "      <td>0.000000</td>\n",
       "      <td>0.000000</td>\n",
       "      <td>0.00000</td>\n",
       "      <td>0.000000</td>\n",
       "      <td>0.000000</td>\n",
       "      <td>0.000000</td>\n",
       "      <td>0.000000</td>\n",
       "    </tr>\n",
       "    <tr>\n",
       "      <th>Immanuelle</th>\n",
       "      <td>False</td>\n",
       "      <td>False</td>\n",
       "      <td>False</td>\n",
       "      <td>243.500000</td>\n",
       "      <td>74</td>\n",
       "      <td>562</td>\n",
       "      <td>21.485294</td>\n",
       "      <td>1</td>\n",
       "      <td>69</td>\n",
       "      <td>1418.531143</td>\n",
       "      <td>...</td>\n",
       "      <td>0.154492</td>\n",
       "      <td>0.000000</td>\n",
       "      <td>0.168069</td>\n",
       "      <td>0.000675</td>\n",
       "      <td>0.001463</td>\n",
       "      <td>0.00000</td>\n",
       "      <td>0.007548</td>\n",
       "      <td>0.008360</td>\n",
       "      <td>0.071725</td>\n",
       "      <td>0.240121</td>\n",
       "    </tr>\n",
       "    <tr>\n",
       "      <th>DatBot</th>\n",
       "      <td>True</td>\n",
       "      <td>True</td>\n",
       "      <td>True</td>\n",
       "      <td>202.285714</td>\n",
       "      <td>151</td>\n",
       "      <td>234</td>\n",
       "      <td>9.076923</td>\n",
       "      <td>1</td>\n",
       "      <td>128</td>\n",
       "      <td>96.045904</td>\n",
       "      <td>...</td>\n",
       "      <td>0.000000</td>\n",
       "      <td>0.623373</td>\n",
       "      <td>0.000000</td>\n",
       "      <td>0.000000</td>\n",
       "      <td>0.000000</td>\n",
       "      <td>0.00000</td>\n",
       "      <td>0.000000</td>\n",
       "      <td>0.429057</td>\n",
       "      <td>0.333058</td>\n",
       "      <td>0.275939</td>\n",
       "    </tr>\n",
       "    <tr>\n",
       "      <th>141.136.148.132</th>\n",
       "      <td>False</td>\n",
       "      <td>False</td>\n",
       "      <td>False</td>\n",
       "      <td>26.000000</td>\n",
       "      <td>26</td>\n",
       "      <td>26</td>\n",
       "      <td>26.000000</td>\n",
       "      <td>26</td>\n",
       "      <td>26</td>\n",
       "      <td>5.461538</td>\n",
       "      <td>...</td>\n",
       "      <td>0.000000</td>\n",
       "      <td>0.000000</td>\n",
       "      <td>0.000000</td>\n",
       "      <td>0.000000</td>\n",
       "      <td>0.000000</td>\n",
       "      <td>0.00000</td>\n",
       "      <td>0.000000</td>\n",
       "      <td>0.000000</td>\n",
       "      <td>0.000000</td>\n",
       "      <td>0.000000</td>\n",
       "    </tr>\n",
       "    <tr>\n",
       "      <th>...</th>\n",
       "      <td>...</td>\n",
       "      <td>...</td>\n",
       "      <td>...</td>\n",
       "      <td>...</td>\n",
       "      <td>...</td>\n",
       "      <td>...</td>\n",
       "      <td>...</td>\n",
       "      <td>...</td>\n",
       "      <td>...</td>\n",
       "      <td>...</td>\n",
       "      <td>...</td>\n",
       "      <td>...</td>\n",
       "      <td>...</td>\n",
       "      <td>...</td>\n",
       "      <td>...</td>\n",
       "      <td>...</td>\n",
       "      <td>...</td>\n",
       "      <td>...</td>\n",
       "      <td>...</td>\n",
       "      <td>...</td>\n",
       "      <td>...</td>\n",
       "    </tr>\n",
       "    <tr>\n",
       "      <th>82.196.120.14</th>\n",
       "      <td>False</td>\n",
       "      <td>False</td>\n",
       "      <td>False</td>\n",
       "      <td>2.000000</td>\n",
       "      <td>2</td>\n",
       "      <td>2</td>\n",
       "      <td>2.000000</td>\n",
       "      <td>2</td>\n",
       "      <td>2</td>\n",
       "      <td>2.500000</td>\n",
       "      <td>...</td>\n",
       "      <td>0.000000</td>\n",
       "      <td>0.000000</td>\n",
       "      <td>0.000000</td>\n",
       "      <td>0.000000</td>\n",
       "      <td>0.000000</td>\n",
       "      <td>0.00000</td>\n",
       "      <td>0.000000</td>\n",
       "      <td>0.000000</td>\n",
       "      <td>0.000000</td>\n",
       "      <td>0.000000</td>\n",
       "    </tr>\n",
       "    <tr>\n",
       "      <th>154.230.28.59</th>\n",
       "      <td>False</td>\n",
       "      <td>False</td>\n",
       "      <td>False</td>\n",
       "      <td>1.000000</td>\n",
       "      <td>1</td>\n",
       "      <td>1</td>\n",
       "      <td>1.000000</td>\n",
       "      <td>1</td>\n",
       "      <td>1</td>\n",
       "      <td>115.000000</td>\n",
       "      <td>...</td>\n",
       "      <td>0.000000</td>\n",
       "      <td>0.000000</td>\n",
       "      <td>0.000000</td>\n",
       "      <td>0.000000</td>\n",
       "      <td>0.000000</td>\n",
       "      <td>0.00000</td>\n",
       "      <td>0.000000</td>\n",
       "      <td>0.000000</td>\n",
       "      <td>0.000000</td>\n",
       "      <td>0.000000</td>\n",
       "    </tr>\n",
       "    <tr>\n",
       "      <th>2600:8804:986:3600:5509:7788:B8C:71D9</th>\n",
       "      <td>False</td>\n",
       "      <td>False</td>\n",
       "      <td>False</td>\n",
       "      <td>2.000000</td>\n",
       "      <td>2</td>\n",
       "      <td>2</td>\n",
       "      <td>2.000000</td>\n",
       "      <td>2</td>\n",
       "      <td>2</td>\n",
       "      <td>36.500000</td>\n",
       "      <td>...</td>\n",
       "      <td>0.000000</td>\n",
       "      <td>0.000000</td>\n",
       "      <td>0.000000</td>\n",
       "      <td>0.000000</td>\n",
       "      <td>0.000000</td>\n",
       "      <td>0.00000</td>\n",
       "      <td>0.000000</td>\n",
       "      <td>0.000000</td>\n",
       "      <td>0.000000</td>\n",
       "      <td>0.000000</td>\n",
       "    </tr>\n",
       "    <tr>\n",
       "      <th>Jsjn1129</th>\n",
       "      <td>False</td>\n",
       "      <td>False</td>\n",
       "      <td>False</td>\n",
       "      <td>1.000000</td>\n",
       "      <td>1</td>\n",
       "      <td>1</td>\n",
       "      <td>1.000000</td>\n",
       "      <td>1</td>\n",
       "      <td>1</td>\n",
       "      <td>8.000000</td>\n",
       "      <td>...</td>\n",
       "      <td>0.000000</td>\n",
       "      <td>0.000000</td>\n",
       "      <td>0.000000</td>\n",
       "      <td>0.000000</td>\n",
       "      <td>0.000000</td>\n",
       "      <td>0.00000</td>\n",
       "      <td>0.000000</td>\n",
       "      <td>0.000000</td>\n",
       "      <td>0.000000</td>\n",
       "      <td>0.000000</td>\n",
       "    </tr>\n",
       "    <tr>\n",
       "      <th>2400:9800:300:332D:405E:DAA5:9ED3:D0A9</th>\n",
       "      <td>False</td>\n",
       "      <td>False</td>\n",
       "      <td>False</td>\n",
       "      <td>1.000000</td>\n",
       "      <td>1</td>\n",
       "      <td>1</td>\n",
       "      <td>1.000000</td>\n",
       "      <td>1</td>\n",
       "      <td>1</td>\n",
       "      <td>681.000000</td>\n",
       "      <td>...</td>\n",
       "      <td>0.000000</td>\n",
       "      <td>0.000000</td>\n",
       "      <td>0.000000</td>\n",
       "      <td>0.000000</td>\n",
       "      <td>0.000000</td>\n",
       "      <td>0.00000</td>\n",
       "      <td>0.000000</td>\n",
       "      <td>0.000000</td>\n",
       "      <td>0.000000</td>\n",
       "      <td>0.000000</td>\n",
       "    </tr>\n",
       "  </tbody>\n",
       "</table>\n",
       "<p>38662 rows × 29 columns</p>\n",
       "</div>"
      ],
      "text/plain": [
       "                                          bot  bot_in_name  bot_in_comment  \\\n",
       "GreenC bot                               True         True           False   \n",
       "77.76.22.175                            False        False           False   \n",
       "Immanuelle                              False        False           False   \n",
       "DatBot                                   True         True            True   \n",
       "141.136.148.132                         False        False           False   \n",
       "...                                       ...          ...             ...   \n",
       "82.196.120.14                           False        False           False   \n",
       "154.230.28.59                           False        False           False   \n",
       "2600:8804:986:3600:5509:7788:B8C:71D9   False        False           False   \n",
       "Jsjn1129                                False        False           False   \n",
       "2400:9800:300:332D:405E:DAA5:9ED3:D0A9  False        False           False   \n",
       "\n",
       "                                        changes_per_day  changes_per_day_min  \\\n",
       "GreenC bot                                  1566.571429                    2   \n",
       "77.76.22.175                                   1.000000                    1   \n",
       "Immanuelle                                   243.500000                   74   \n",
       "DatBot                                       202.285714                  151   \n",
       "141.136.148.132                               26.000000                   26   \n",
       "...                                                 ...                  ...   \n",
       "82.196.120.14                                  2.000000                    2   \n",
       "154.230.28.59                                  1.000000                    1   \n",
       "2600:8804:986:3600:5509:7788:B8C:71D9          2.000000                    2   \n",
       "Jsjn1129                                       1.000000                    1   \n",
       "2400:9800:300:332D:405E:DAA5:9ED3:D0A9         1.000000                    1   \n",
       "\n",
       "                                        changes_per_day_max  changes_per_hour  \\\n",
       "GreenC bot                                             9771        378.137931   \n",
       "77.76.22.175                                              1          1.000000   \n",
       "Immanuelle                                              562         21.485294   \n",
       "DatBot                                                  234          9.076923   \n",
       "141.136.148.132                                          26         26.000000   \n",
       "...                                                     ...               ...   \n",
       "82.196.120.14                                             2          2.000000   \n",
       "154.230.28.59                                             1          1.000000   \n",
       "2600:8804:986:3600:5509:7788:B8C:71D9                     2          2.000000   \n",
       "Jsjn1129                                                  1          1.000000   \n",
       "2400:9800:300:332D:405E:DAA5:9ED3:D0A9                    1          1.000000   \n",
       "\n",
       "                                        changes_per_hour_min  \\\n",
       "GreenC bot                                                 1   \n",
       "77.76.22.175                                               1   \n",
       "Immanuelle                                                 1   \n",
       "DatBot                                                     1   \n",
       "141.136.148.132                                           26   \n",
       "...                                                      ...   \n",
       "82.196.120.14                                              2   \n",
       "154.230.28.59                                              1   \n",
       "2600:8804:986:3600:5509:7788:B8C:71D9                      2   \n",
       "Jsjn1129                                                   1   \n",
       "2400:9800:300:332D:405E:DAA5:9ED3:D0A9                     1   \n",
       "\n",
       "                                        changes_per_hour_max  \\\n",
       "GreenC bot                                              2003   \n",
       "77.76.22.175                                               1   \n",
       "Immanuelle                                                69   \n",
       "DatBot                                                   128   \n",
       "141.136.148.132                                           26   \n",
       "...                                                      ...   \n",
       "82.196.120.14                                              2   \n",
       "154.230.28.59                                              1   \n",
       "2600:8804:986:3600:5509:7788:B8C:71D9                      2   \n",
       "Jsjn1129                                                   1   \n",
       "2400:9800:300:332D:405E:DAA5:9ED3:D0A9                     1   \n",
       "\n",
       "                                        edit_length_mean  ...  tfidf_added  \\\n",
       "GreenC bot                                     56.608700  ...     0.000000   \n",
       "77.76.22.175                                   45.000000  ...     0.000000   \n",
       "Immanuelle                                   1418.531143  ...     0.154492   \n",
       "DatBot                                         96.045904  ...     0.000000   \n",
       "141.136.148.132                                 5.461538  ...     0.000000   \n",
       "...                                                  ...  ...          ...   \n",
       "82.196.120.14                                   2.500000  ...     0.000000   \n",
       "154.230.28.59                                 115.000000  ...     0.000000   \n",
       "2600:8804:986:3600:5509:7788:B8C:71D9          36.500000  ...     0.000000   \n",
       "Jsjn1129                                        8.000000  ...     0.000000   \n",
       "2400:9800:300:332D:405E:DAA5:9ED3:D0A9        681.000000  ...     0.000000   \n",
       "\n",
       "                                        tfidf_bot  tfidf_category  tfidf_en  \\\n",
       "GreenC bot                               0.000207        0.000000  0.000000   \n",
       "77.76.22.175                             0.000000        0.000000  0.000000   \n",
       "Immanuelle                               0.000000        0.168069  0.000675   \n",
       "DatBot                                   0.623373        0.000000  0.000000   \n",
       "141.136.148.132                          0.000000        0.000000  0.000000   \n",
       "...                                           ...             ...       ...   \n",
       "82.196.120.14                            0.000000        0.000000  0.000000   \n",
       "154.230.28.59                            0.000000        0.000000  0.000000   \n",
       "2600:8804:986:3600:5509:7788:B8C:71D9    0.000000        0.000000  0.000000   \n",
       "Jsjn1129                                 0.000000        0.000000  0.000000   \n",
       "2400:9800:300:332D:405E:DAA5:9ED3:D0A9   0.000000        0.000000  0.000000   \n",
       "\n",
       "                                        tfidf_link  tfidf_report  tfidf_talk  \\\n",
       "GreenC bot                                0.014471       0.00023    0.000000   \n",
       "77.76.22.175                              0.000000       0.00000    0.000000   \n",
       "Immanuelle                                0.001463       0.00000    0.007548   \n",
       "DatBot                                    0.000000       0.00000    0.000000   \n",
       "141.136.148.132                           0.000000       0.00000    0.000000   \n",
       "...                                            ...           ...         ...   \n",
       "82.196.120.14                             0.000000       0.00000    0.000000   \n",
       "154.230.28.59                             0.000000       0.00000    0.000000   \n",
       "2600:8804:986:3600:5509:7788:B8C:71D9     0.000000       0.00000    0.000000   \n",
       "Jsjn1129                                  0.000000       0.00000    0.000000   \n",
       "2400:9800:300:332D:405E:DAA5:9ED3:D0A9    0.000000       0.00000    0.000000   \n",
       "\n",
       "                                        tfidf_user  tfidf_wikipedia  tfidf_wp  \n",
       "GreenC bot                                0.981196         0.036553  0.000000  \n",
       "77.76.22.175                              0.000000         0.000000  0.000000  \n",
       "Immanuelle                                0.008360         0.071725  0.240121  \n",
       "DatBot                                    0.429057         0.333058  0.275939  \n",
       "141.136.148.132                           0.000000         0.000000  0.000000  \n",
       "...                                            ...              ...       ...  \n",
       "82.196.120.14                             0.000000         0.000000  0.000000  \n",
       "154.230.28.59                             0.000000         0.000000  0.000000  \n",
       "2600:8804:986:3600:5509:7788:B8C:71D9     0.000000         0.000000  0.000000  \n",
       "Jsjn1129                                  0.000000         0.000000  0.000000  \n",
       "2400:9800:300:332D:405E:DAA5:9ED3:D0A9    0.000000         0.000000  0.000000  \n",
       "\n",
       "[38662 rows x 29 columns]"
      ]
     },
     "execution_count": 6,
     "metadata": {},
     "output_type": "execute_result"
    }
   ],
   "source": [
    "transformed_dataset = transform_data(dataset)\n",
    "transformed_dataset"
   ]
  },
  {
   "cell_type": "markdown",
   "metadata": {},
   "source": [
    "### Train classifier"
   ]
  },
  {
   "cell_type": "code",
   "execution_count": 7,
   "metadata": {},
   "outputs": [],
   "source": [
    "from sklearn.model_selection import train_test_split\n",
    "from sklearn.metrics import classification_report, confusion_matrix, f1_score\n",
    "from sklearn.ensemble import RandomForestClassifier\n",
    "from sklearn.model_selection import GridSearchCV\n",
    "from sklearn.utils import resample"
   ]
  },
  {
   "cell_type": "code",
   "execution_count": 8,
   "metadata": {},
   "outputs": [
    {
     "data": {
      "text/plain": [
       "bot\n",
       "False    38633\n",
       "True        29\n",
       "Name: count, dtype: int64"
      ]
     },
     "execution_count": 8,
     "metadata": {},
     "output_type": "execute_result"
    }
   ],
   "source": [
    "transformed_dataset.bot.value_counts()"
   ]
  },
  {
   "cell_type": "code",
   "execution_count": 96,
   "metadata": {},
   "outputs": [],
   "source": [
    "train_set, validation_set = train_test_split(transformed_dataset, test_size=0.4, random_state=SEED, stratify=transformed_dataset.bot)"
   ]
  },
  {
   "cell_type": "code",
   "execution_count": 97,
   "metadata": {},
   "outputs": [
    {
     "data": {
      "text/plain": [
       "bot\n",
       "False    23180\n",
       "True        17\n",
       "Name: count, dtype: int64"
      ]
     },
     "execution_count": 97,
     "metadata": {},
     "output_type": "execute_result"
    }
   ],
   "source": [
    "train_set.bot.value_counts()"
   ]
  },
  {
   "cell_type": "code",
   "execution_count": 98,
   "metadata": {},
   "outputs": [],
   "source": [
    "K = 3\n",
    "\n",
    "users_train_set = train_set[train_set.bot == False]\n",
    "bots_train_set = train_set[train_set.bot == True]\n",
    "\n",
    "users_downsampled = resample(users_train_set.drop_duplicates(), replace=False, n_samples=int(len(bots_train_set) * K), random_state=SEED)\n",
    "\n",
    "train_set = pd.concat([bots_train_set.drop_duplicates(), users_downsampled.drop_duplicates()])"
   ]
  },
  {
   "cell_type": "code",
   "execution_count": 99,
   "metadata": {},
   "outputs": [
    {
     "data": {
      "text/plain": [
       "bot\n",
       "False    51\n",
       "True     17\n",
       "Name: count, dtype: int64"
      ]
     },
     "execution_count": 99,
     "metadata": {},
     "output_type": "execute_result"
    }
   ],
   "source": [
    "train_set.value_counts('bot')"
   ]
  },
  {
   "cell_type": "code",
   "execution_count": 100,
   "metadata": {},
   "outputs": [],
   "source": [
    "def plot_conf_matrix(conf_matrix):\n",
    "    \"\"\"Plots a confusion matrix\"\"\"\n",
    "    sns.heatmap(conf_matrix, annot=True, fmt='g')\n",
    "    plt.xlabel('Predicted')\n",
    "    plt.ylabel('True')\n",
    "    plt.show()"
   ]
  },
  {
   "cell_type": "code",
   "execution_count": 101,
   "metadata": {},
   "outputs": [],
   "source": [
    "rf_model = RandomForestClassifier(random_state=SEED)"
   ]
  },
  {
   "cell_type": "code",
   "execution_count": 102,
   "metadata": {},
   "outputs": [
    {
     "data": {
      "image/png": "[encoded data removed]",
      "text/plain": [
       "<Figure size 640x480 with 2 Axes>"
      ]
     },
     "metadata": {},
     "output_type": "display_data"
    },
    {
     "name": "stdout",
     "output_type": "stream",
     "text": [
      "F1 score: 1.0\n"
     ]
    }
   ],
   "source": [
    "X_train, X_test, y_train, y_test = train_test_split(train_set.drop(['bot'], axis=1), train_set['bot'], test_size=0.2, random_state=SEED)\n",
    "\n",
    "model = rf_model.fit(X_train, y_train)\n",
    "score = f1_score(y_test, model.predict(X_test))\n",
    "conf_matrix = confusion_matrix(y_test, model.predict(X_test))\n",
    "plot_conf_matrix(conf_matrix)\n",
    "print(f'F1 score: {score}')"
   ]
  },
  {
   "cell_type": "code",
   "execution_count": 103,
   "metadata": {},
   "outputs": [
    {
     "data": {
      "text/html": [
       "<style>#sk-container-id-4 {color: black;}#sk-container-id-4 pre{padding: 0;}#sk-container-id-4 div.sk-toggleable {background-color: white;}#sk-container-id-4 label.sk-toggleable__label {cursor: pointer;display: block;width: 100%;margin-bottom: 0;padding: 0.3em;box-sizing: border-box;text-align: center;}#sk-container-id-4 label.sk-toggleable__label-arrow:before {content: \"▸\";float: left;margin-right: 0.25em;color: #696969;}#sk-container-id-4 label.sk-toggleable__label-arrow:hover:before {color: black;}#sk-container-id-4 div.sk-estimator:hover label.sk-toggleable__label-arrow:before {color: black;}#sk-container-id-4 div.sk-toggleable__content {max-height: 0;max-width: 0;overflow: hidden;text-align: left;background-color: #f0f8ff;}#sk-container-id-4 div.sk-toggleable__content pre {margin: 0.2em;color: black;border-radius: 0.25em;background-color: #f0f8ff;}#sk-container-id-4 input.sk-toggleable__control:checked~div.sk-toggleable__content {max-height: 200px;max-width: 100%;overflow: auto;}#sk-container-id-4 input.sk-toggleable__control:checked~label.sk-toggleable__label-arrow:before {content: \"▾\";}#sk-container-id-4 div.sk-estimator input.sk-toggleable__control:checked~label.sk-toggleable__label {background-color: #d4ebff;}#sk-container-id-4 div.sk-label input.sk-toggleable__control:checked~label.sk-toggleable__label {background-color: #d4ebff;}#sk-container-id-4 input.sk-hidden--visually {border: 0;clip: rect(1px 1px 1px 1px);clip: rect(1px, 1px, 1px, 1px);height: 1px;margin: -1px;overflow: hidden;padding: 0;position: absolute;width: 1px;}#sk-container-id-4 div.sk-estimator {font-family: monospace;background-color: #f0f8ff;border: 1px dotted black;border-radius: 0.25em;box-sizing: border-box;margin-bottom: 0.5em;}#sk-container-id-4 div.sk-estimator:hover {background-color: #d4ebff;}#sk-container-id-4 div.sk-parallel-item::after {content: \"\";width: 100%;border-bottom: 1px solid gray;flex-grow: 1;}#sk-container-id-4 div.sk-label:hover label.sk-toggleable__label {background-color: #d4ebff;}#sk-container-id-4 div.sk-serial::before {content: \"\";position: absolute;border-left: 1px solid gray;box-sizing: border-box;top: 0;bottom: 0;left: 50%;z-index: 0;}#sk-container-id-4 div.sk-serial {display: flex;flex-direction: column;align-items: center;background-color: white;padding-right: 0.2em;padding-left: 0.2em;position: relative;}#sk-container-id-4 div.sk-item {position: relative;z-index: 1;}#sk-container-id-4 div.sk-parallel {display: flex;align-items: stretch;justify-content: center;background-color: white;position: relative;}#sk-container-id-4 div.sk-item::before, #sk-container-id-4 div.sk-parallel-item::before {content: \"\";position: absolute;border-left: 1px solid gray;box-sizing: border-box;top: 0;bottom: 0;left: 50%;z-index: -1;}#sk-container-id-4 div.sk-parallel-item {display: flex;flex-direction: column;z-index: 1;position: relative;background-color: white;}#sk-container-id-4 div.sk-parallel-item:first-child::after {align-self: flex-end;width: 50%;}#sk-container-id-4 div.sk-parallel-item:last-child::after {align-self: flex-start;width: 50%;}#sk-container-id-4 div.sk-parallel-item:only-child::after {width: 0;}#sk-container-id-4 div.sk-dashed-wrapped {border: 1px dashed gray;margin: 0 0.4em 0.5em 0.4em;box-sizing: border-box;padding-bottom: 0.4em;background-color: white;}#sk-container-id-4 div.sk-label label {font-family: monospace;font-weight: bold;display: inline-block;line-height: 1.2em;}#sk-container-id-4 div.sk-label-container {text-align: center;}#sk-container-id-4 div.sk-container {/* jupyter's `normalize.less` sets `[hidden] { display: none; }` but bootstrap.min.css set `[hidden] { display: none !important; }` so we also need the `!important` here to be able to override the default hidden behavior on the sphinx rendered scikit-learn.org. See: https://github.com/scikit-learn/scikit-learn/issues/21755 */display: inline-block !important;position: relative;}#sk-container-id-4 div.sk-text-repr-fallback {display: none;}</style><div id=\"sk-container-id-4\" class=\"sk-top-container\"><div class=\"sk-text-repr-fallback\"><pre>GridSearchCV(cv=5, estimator=RandomForestClassifier(random_state=111),\n",
       "             n_jobs=-1,\n",
       "             param_grid={&#x27;bootstrap&#x27;: [True, False],\n",
       "                         &#x27;max_depth&#x27;: [10, 20, 50, None],\n",
       "                         &#x27;min_samples_leaf&#x27;: [1, 2, 4],\n",
       "                         &#x27;min_samples_split&#x27;: [2, 5, 10],\n",
       "                         &#x27;n_estimators&#x27;: [100, 200, 500]},\n",
       "             scoring=&#x27;f1&#x27;)</pre><b>In a Jupyter environment, please rerun this cell to show the HTML representation or trust the notebook. <br />On GitHub, the HTML representation is unable to render, please try loading this page with nbviewer.org.</b></div><div class=\"sk-container\" hidden><div class=\"sk-item sk-dashed-wrapped\"><div class=\"sk-label-container\"><div class=\"sk-label sk-toggleable\"><input class=\"sk-toggleable__control sk-hidden--visually\" id=\"sk-estimator-id-10\" type=\"checkbox\" ><label for=\"sk-estimator-id-10\" class=\"sk-toggleable__label sk-toggleable__label-arrow\">GridSearchCV</label><div class=\"sk-toggleable__content\"><pre>GridSearchCV(cv=5, estimator=RandomForestClassifier(random_state=111),\n",
       "             n_jobs=-1,\n",
       "             param_grid={&#x27;bootstrap&#x27;: [True, False],\n",
       "                         &#x27;max_depth&#x27;: [10, 20, 50, None],\n",
       "                         &#x27;min_samples_leaf&#x27;: [1, 2, 4],\n",
       "                         &#x27;min_samples_split&#x27;: [2, 5, 10],\n",
       "                         &#x27;n_estimators&#x27;: [100, 200, 500]},\n",
       "             scoring=&#x27;f1&#x27;)</pre></div></div></div><div class=\"sk-parallel\"><div class=\"sk-parallel-item\"><div class=\"sk-item\"><div class=\"sk-label-container\"><div class=\"sk-label sk-toggleable\"><input class=\"sk-toggleable__control sk-hidden--visually\" id=\"sk-estimator-id-11\" type=\"checkbox\" ><label for=\"sk-estimator-id-11\" class=\"sk-toggleable__label sk-toggleable__label-arrow\">estimator: RandomForestClassifier</label><div class=\"sk-toggleable__content\"><pre>RandomForestClassifier(random_state=111)</pre></div></div></div><div class=\"sk-serial\"><div class=\"sk-item\"><div class=\"sk-estimator sk-toggleable\"><input class=\"sk-toggleable__control sk-hidden--visually\" id=\"sk-estimator-id-12\" type=\"checkbox\" ><label for=\"sk-estimator-id-12\" class=\"sk-toggleable__label sk-toggleable__label-arrow\">RandomForestClassifier</label><div class=\"sk-toggleable__content\"><pre>RandomForestClassifier(random_state=111)</pre></div></div></div></div></div></div></div></div></div></div>"
      ],
      "text/plain": [
       "GridSearchCV(cv=5, estimator=RandomForestClassifier(random_state=111),\n",
       "             n_jobs=-1,\n",
       "             param_grid={'bootstrap': [True, False],\n",
       "                         'max_depth': [10, 20, 50, None],\n",
       "                         'min_samples_leaf': [1, 2, 4],\n",
       "                         'min_samples_split': [2, 5, 10],\n",
       "                         'n_estimators': [100, 200, 500]},\n",
       "             scoring='f1')"
      ]
     },
     "execution_count": 103,
     "metadata": {},
     "output_type": "execute_result"
    }
   ],
   "source": [
    "grid_search_params = {\n",
    "    'bootstrap': [True, False],\n",
    "    'max_depth': [10, 20, 50, None],\n",
    "    'min_samples_leaf': [1, 2, 4],\n",
    "    'min_samples_split': [2, 5, 10],\n",
    "    'n_estimators': [100, 200, 500],\n",
    "    }\n",
    "\n",
    "grid = GridSearchCV(estimator=rf_model, param_grid=grid_search_params, cv=5, scoring='f1', n_jobs=-1)\n",
    "grid.fit(X_train, y_train)"
   ]
  },
  {
   "cell_type": "code",
   "execution_count": 104,
   "metadata": {},
   "outputs": [
    {
     "data": {
      "text/plain": [
       "{'bootstrap': False,\n",
       " 'max_depth': 10,\n",
       " 'min_samples_leaf': 1,\n",
       " 'min_samples_split': 2,\n",
       " 'n_estimators': 100}"
      ]
     },
     "execution_count": 104,
     "metadata": {},
     "output_type": "execute_result"
    }
   ],
   "source": [
    "grid.best_params_"
   ]
  },
  {
   "cell_type": "code",
   "execution_count": 105,
   "metadata": {},
   "outputs": [
    {
     "data": {
      "text/plain": [
       "0.9714285714285715"
      ]
     },
     "execution_count": 105,
     "metadata": {},
     "output_type": "execute_result"
    }
   ],
   "source": [
    "grid.best_score_"
   ]
  },
  {
   "cell_type": "code",
   "execution_count": 106,
   "metadata": {},
   "outputs": [
    {
     "data": {
      "image/png": "[encoded data removed]",
      "text/plain": [
       "<Figure size 640x480 with 2 Axes>"
      ]
     },
     "metadata": {},
     "output_type": "display_data"
    },
    {
     "name": "stdout",
     "output_type": "stream",
     "text": [
      "F1 score: 1.0\n"
     ]
    }
   ],
   "source": [
    "rf_model = RandomForestClassifier(random_state=SEED, **grid.best_params_)\n",
    "model = rf_model.fit(X_train, y_train)\n",
    "score = f1_score(y_test, model.predict(X_test))\n",
    "conf_matrix = confusion_matrix(y_test, model.predict(X_test))\n",
    "plot_conf_matrix(conf_matrix)\n",
    "print(f'F1 score: {score}')"
   ]
  },
  {
   "cell_type": "code",
   "execution_count": 107,
   "metadata": {},
   "outputs": [
    {
     "data": {
      "text/html": [
       "<div>\n",
       "<style scoped>\n",
       "    .dataframe tbody tr th:only-of-type {\n",
       "        vertical-align: middle;\n",
       "    }\n",
       "\n",
       "    .dataframe tbody tr th {\n",
       "        vertical-align: top;\n",
       "    }\n",
       "\n",
       "    .dataframe thead th {\n",
       "        text-align: right;\n",
       "    }\n",
       "</style>\n",
       "<table border=\"1\" class=\"dataframe\">\n",
       "  <thead>\n",
       "    <tr style=\"text-align: right;\">\n",
       "      <th></th>\n",
       "      <th>feature_name</th>\n",
       "      <th>feature_importance</th>\n",
       "    </tr>\n",
       "  </thead>\n",
       "  <tbody>\n",
       "    <tr>\n",
       "      <th>0</th>\n",
       "      <td>bot_in_name</td>\n",
       "      <td>0.380646</td>\n",
       "    </tr>\n",
       "    <tr>\n",
       "      <th>2</th>\n",
       "      <td>changes_per_day</td>\n",
       "      <td>0.093815</td>\n",
       "    </tr>\n",
       "    <tr>\n",
       "      <th>1</th>\n",
       "      <td>bot_in_comment</td>\n",
       "      <td>0.073774</td>\n",
       "    </tr>\n",
       "    <tr>\n",
       "      <th>4</th>\n",
       "      <td>changes_per_day_max</td>\n",
       "      <td>0.065882</td>\n",
       "    </tr>\n",
       "    <tr>\n",
       "      <th>12</th>\n",
       "      <td>pages_edited_per_day</td>\n",
       "      <td>0.063775</td>\n",
       "    </tr>\n",
       "    <tr>\n",
       "      <th>11</th>\n",
       "      <td>pages_edited</td>\n",
       "      <td>0.060192</td>\n",
       "    </tr>\n",
       "    <tr>\n",
       "      <th>14</th>\n",
       "      <td>pages_edited_per_day_max</td>\n",
       "      <td>0.034833</td>\n",
       "    </tr>\n",
       "    <tr>\n",
       "      <th>10</th>\n",
       "      <td>edit_length_max</td>\n",
       "      <td>0.029575</td>\n",
       "    </tr>\n",
       "    <tr>\n",
       "      <th>15</th>\n",
       "      <td>pages_edited_per_hour</td>\n",
       "      <td>0.028821</td>\n",
       "    </tr>\n",
       "    <tr>\n",
       "      <th>8</th>\n",
       "      <td>edit_length_mean</td>\n",
       "      <td>0.027331</td>\n",
       "    </tr>\n",
       "    <tr>\n",
       "      <th>19</th>\n",
       "      <td>tfidf_bot</td>\n",
       "      <td>0.023983</td>\n",
       "    </tr>\n",
       "    <tr>\n",
       "      <th>7</th>\n",
       "      <td>changes_per_hour_max</td>\n",
       "      <td>0.017850</td>\n",
       "    </tr>\n",
       "    <tr>\n",
       "      <th>17</th>\n",
       "      <td>pages_edited_per_hour_max</td>\n",
       "      <td>0.015501</td>\n",
       "    </tr>\n",
       "    <tr>\n",
       "      <th>3</th>\n",
       "      <td>changes_per_day_min</td>\n",
       "      <td>0.012324</td>\n",
       "    </tr>\n",
       "    <tr>\n",
       "      <th>23</th>\n",
       "      <td>tfidf_report</td>\n",
       "      <td>0.011824</td>\n",
       "    </tr>\n",
       "    <tr>\n",
       "      <th>20</th>\n",
       "      <td>tfidf_category</td>\n",
       "      <td>0.011559</td>\n",
       "    </tr>\n",
       "    <tr>\n",
       "      <th>5</th>\n",
       "      <td>changes_per_hour</td>\n",
       "      <td>0.011391</td>\n",
       "    </tr>\n",
       "    <tr>\n",
       "      <th>13</th>\n",
       "      <td>pages_edited_per_day_min</td>\n",
       "      <td>0.009698</td>\n",
       "    </tr>\n",
       "    <tr>\n",
       "      <th>9</th>\n",
       "      <td>edit_length_min</td>\n",
       "      <td>0.006169</td>\n",
       "    </tr>\n",
       "    <tr>\n",
       "      <th>22</th>\n",
       "      <td>tfidf_link</td>\n",
       "      <td>0.005614</td>\n",
       "    </tr>\n",
       "    <tr>\n",
       "      <th>25</th>\n",
       "      <td>tfidf_user</td>\n",
       "      <td>0.005534</td>\n",
       "    </tr>\n",
       "    <tr>\n",
       "      <th>18</th>\n",
       "      <td>tfidf_added</td>\n",
       "      <td>0.002745</td>\n",
       "    </tr>\n",
       "    <tr>\n",
       "      <th>27</th>\n",
       "      <td>tfidf_wp</td>\n",
       "      <td>0.002483</td>\n",
       "    </tr>\n",
       "    <tr>\n",
       "      <th>26</th>\n",
       "      <td>tfidf_wikipedia</td>\n",
       "      <td>0.002141</td>\n",
       "    </tr>\n",
       "    <tr>\n",
       "      <th>24</th>\n",
       "      <td>tfidf_talk</td>\n",
       "      <td>0.001173</td>\n",
       "    </tr>\n",
       "    <tr>\n",
       "      <th>16</th>\n",
       "      <td>pages_edited_per_hour_min</td>\n",
       "      <td>0.000916</td>\n",
       "    </tr>\n",
       "    <tr>\n",
       "      <th>6</th>\n",
       "      <td>changes_per_hour_min</td>\n",
       "      <td>0.000450</td>\n",
       "    </tr>\n",
       "    <tr>\n",
       "      <th>21</th>\n",
       "      <td>tfidf_en</td>\n",
       "      <td>0.000000</td>\n",
       "    </tr>\n",
       "  </tbody>\n",
       "</table>\n",
       "</div>"
      ],
      "text/plain": [
       "                 feature_name  feature_importance\n",
       "0                 bot_in_name            0.380646\n",
       "2             changes_per_day            0.093815\n",
       "1              bot_in_comment            0.073774\n",
       "4         changes_per_day_max            0.065882\n",
       "12       pages_edited_per_day            0.063775\n",
       "11               pages_edited            0.060192\n",
       "14   pages_edited_per_day_max            0.034833\n",
       "10            edit_length_max            0.029575\n",
       "15      pages_edited_per_hour            0.028821\n",
       "8            edit_length_mean            0.027331\n",
       "19                  tfidf_bot            0.023983\n",
       "7        changes_per_hour_max            0.017850\n",
       "17  pages_edited_per_hour_max            0.015501\n",
       "3         changes_per_day_min            0.012324\n",
       "23               tfidf_report            0.011824\n",
       "20             tfidf_category            0.011559\n",
       "5            changes_per_hour            0.011391\n",
       "13   pages_edited_per_day_min            0.009698\n",
       "9             edit_length_min            0.006169\n",
       "22                 tfidf_link            0.005614\n",
       "25                 tfidf_user            0.005534\n",
       "18                tfidf_added            0.002745\n",
       "27                   tfidf_wp            0.002483\n",
       "26            tfidf_wikipedia            0.002141\n",
       "24                 tfidf_talk            0.001173\n",
       "16  pages_edited_per_hour_min            0.000916\n",
       "6        changes_per_hour_min            0.000450\n",
       "21                   tfidf_en            0.000000"
      ]
     },
     "execution_count": 107,
     "metadata": {},
     "output_type": "execute_result"
    }
   ],
   "source": [
    "feature_importance = pd.DataFrame(model.feature_importances_, X_train.columns).reset_index()\n",
    "feature_importance.columns = ['feature_name', 'feature_importance']\n",
    "feature_importance.sort_values('feature_importance', ascending=False)"
   ]
  },
  {
   "cell_type": "code",
   "execution_count": 108,
   "metadata": {},
   "outputs": [
    {
     "data": {
      "image/png": "[encoded data removed]",
      "text/plain": [
       "<Figure size 640x480 with 2 Axes>"
      ]
     },
     "metadata": {},
     "output_type": "display_data"
    }
   ],
   "source": [
    "plot_conf_matrix(confusion_matrix(validation_set['bot'], model.predict(validation_set.drop(['bot'], axis=1)), ))"
   ]
  },
  {
   "cell_type": "code",
   "execution_count": 110,
   "metadata": {},
   "outputs": [
    {
     "name": "stdout",
     "output_type": "stream",
     "text": [
      "              precision    recall  f1-score   support\n",
      "\n",
      "       False       1.00      1.00      1.00     15453\n",
      "        True       0.18      1.00      0.31        12\n",
      "\n",
      "    accuracy                           1.00     15465\n",
      "   macro avg       0.59      1.00      0.65     15465\n",
      "weighted avg       1.00      1.00      1.00     15465\n",
      "\n",
      "F1 score: 0.3076923076923077\n"
     ]
    }
   ],
   "source": [
    "y_val = validation_set['bot']\n",
    "X_val = validation_set.drop(['bot'], axis=1)\n",
    "X_pred = model.predict(X_val)\n",
    "\n",
    "print(classification_report(y_val, X_pred))\n",
    "print(f'F1 score: {f1_score(y_val, X_pred)}')"
   ]
  },
  {
   "cell_type": "code",
   "execution_count": 114,
   "metadata": {},
   "outputs": [
    {
     "data": {
      "text/plain": [
       "['../data/bot_classifier.joblib']"
      ]
     },
     "execution_count": 114,
     "metadata": {},
     "output_type": "execute_result"
    }
   ],
   "source": [
    "# Save model\n",
    "joblib.dump(model, '../data/bot_classifier.joblib')"
   ]
  }
 ],
 "metadata": {
  "kernelspec": {
   "display_name": "venv",
   "language": "python",
   "name": "python3"
  },
  "language_info": {
   "codemirror_mode": {
    "name": "ipython",
    "version": 3
   },
   "file_extension": ".py",
   "mimetype": "text/x-python",
   "name": "python",
   "nbconvert_exporter": "python",
   "pygments_lexer": "ipython3",
   "version": "3.10.6"
  }
 },
 "nbformat": 4,
 "nbformat_minor": 2
}
