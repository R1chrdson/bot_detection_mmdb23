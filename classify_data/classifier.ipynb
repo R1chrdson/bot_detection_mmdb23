{
 "cells": [
  {
   "cell_type": "markdown",
   "metadata": {},
   "source": [
    "### Imports"
   ]
  },
  {
   "cell_type": "code",
   "execution_count": 1,
   "metadata": {},
   "outputs": [],
   "source": [
    "import hashlib\n",
    "import os\n",
    "import random\n",
    "import sys\n",
    "import string\n",
    "import numpy as np\n",
    "import pandas as pd\n",
    "import seaborn as sns"
   ]
  },
  {
   "cell_type": "markdown",
   "metadata": {},
   "source": [
    "### Utils"
   ]
  },
  {
   "cell_type": "code",
   "execution_count": 2,
   "metadata": {},
   "outputs": [],
   "source": [
    "def random_salt(length:int = 10):\n",
    "    \"\"\"\n",
    "    Function that generates a random salt\n",
    "    \"\"\"\n",
    "    return ''.join(random.choices(string.ascii_letters + string.digits, k=length))\n",
    "\n",
    "\n",
    "def hash(string, salt:str = 'salt'):\n",
    "    \"\"\"\n",
    "    Function that hashes a string. You can controll randomness with a salt\n",
    "    \"\"\"\n",
    "    salt_hash = hashlib.sha256(salt.encode('utf-8')).hexdigest()\n",
    "    string_hash = hashlib.sha256(string.encode('utf-8')).hexdigest()\n",
    "    return int(salt_hash, 16) ^ int(string_hash, 16)"
   ]
  },
  {
   "cell_type": "code",
   "execution_count": 3,
   "metadata": {},
   "outputs": [],
   "source": [
    "SEED = 111\n",
    "\n",
    "random.seed(SEED)\n",
    "np.random.seed(SEED)"
   ]
  },
  {
   "cell_type": "code",
   "execution_count": 4,
   "metadata": {},
   "outputs": [
    {
     "name": "stdout",
     "output_type": "stream",
     "text": [
      "SPLIT_SALT: Zn6EyMkmAo\n",
      "TRAINING_SALT: PzxrnS3vXt\n"
     ]
    }
   ],
   "source": [
    "SPLIT_SALT = random_salt()\n",
    "TRAINING_SALT = random_salt()\n",
    "\n",
    "print(f'SPLIT_SALT: {SPLIT_SALT}')\n",
    "print(f'TRAINING_SALT: {TRAINING_SALT}')"
   ]
  },
  {
   "cell_type": "markdown",
   "metadata": {},
   "source": [
    "### Data analysis"
   ]
  },
  {
   "cell_type": "code",
   "execution_count": 5,
   "metadata": {},
   "outputs": [],
   "source": [
    "dataset = pd.read_json('../data/dataset_2weeks.jsonl', lines=True)"
   ]
  },
  {
   "cell_type": "code",
   "execution_count": null,
   "metadata": {},
   "outputs": [],
   "source": [
    "validation_percent = 20\n",
    "validation_mask = dataset['user'].apply(lambda user: hash(user, SPLIT_SALT) % 100 > 99 - validation_percent)\n",
    "\n",
    "valiation_dataset = dataset[validation_mask]\n",
    "train_dataset = dataset[~validation_mask]"
   ]
  },
  {
   "cell_type": "code",
   "execution_count": null,
   "metadata": {},
   "outputs": [],
   "source": []
  }
 ],
 "metadata": {
  "kernelspec": {
   "display_name": "venv",
   "language": "python",
   "name": "python3"
  },
  "language_info": {
   "codemirror_mode": {
    "name": "ipython",
    "version": 3
   },
   "file_extension": ".py",
   "mimetype": "text/x-python",
   "name": "python",
   "nbconvert_exporter": "python",
   "pygments_lexer": "ipython3",
   "version": "3.10.6"
  }
 },
 "nbformat": 4,
 "nbformat_minor": 2
}
